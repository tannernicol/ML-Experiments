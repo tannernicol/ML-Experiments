{
 "cells": [
  {
   "cell_type": "markdown",
   "metadata": {},
   "source": [
    "# Detecting Algorithmically Generated Domains\n",
    "AGD's are commonly used for temporary domains in malware. The following is a quick exploration in using ML to automatically detect an AGD."
   ]
  },
  {
   "cell_type": "code",
   "execution_count": 186,
   "metadata": {},
   "outputs": [],
   "source": [
    "import warnings\n",
    "warnings.filterwarnings(\"ignore\")"
   ]
  },
  {
   "cell_type": "code",
   "execution_count": 187,
   "metadata": {},
   "outputs": [
    {
     "data": {
      "text/html": [
       "<div>\n",
       "<style scoped>\n",
       "    .dataframe tbody tr th:only-of-type {\n",
       "        vertical-align: middle;\n",
       "    }\n",
       "\n",
       "    .dataframe tbody tr th {\n",
       "        vertical-align: top;\n",
       "    }\n",
       "\n",
       "    .dataframe thead th {\n",
       "        text-align: right;\n",
       "    }\n",
       "</style>\n",
       "<table border=\"1\" class=\"dataframe\">\n",
       "  <thead>\n",
       "    <tr style=\"text-align: right;\">\n",
       "      <th></th>\n",
       "      <th>domain</th>\n",
       "      <th>label</th>\n",
       "    </tr>\n",
       "  </thead>\n",
       "  <tbody>\n",
       "    <tr>\n",
       "      <th>0</th>\n",
       "      <td>facebook</td>\n",
       "      <td>valid</td>\n",
       "    </tr>\n",
       "    <tr>\n",
       "      <th>1</th>\n",
       "      <td>google</td>\n",
       "      <td>valid</td>\n",
       "    </tr>\n",
       "    <tr>\n",
       "      <th>2</th>\n",
       "      <td>youtube</td>\n",
       "      <td>valid</td>\n",
       "    </tr>\n",
       "    <tr>\n",
       "      <th>3</th>\n",
       "      <td>yahoo</td>\n",
       "      <td>valid</td>\n",
       "    </tr>\n",
       "    <tr>\n",
       "      <th>4</th>\n",
       "      <td>baidu</td>\n",
       "      <td>valid</td>\n",
       "    </tr>\n",
       "  </tbody>\n",
       "</table>\n",
       "</div>"
      ],
      "text/plain": [
       "     domain  label\n",
       "0  facebook  valid\n",
       "1    google  valid\n",
       "2   youtube  valid\n",
       "3     yahoo  valid\n",
       "4     baidu  valid"
      ]
     },
     "execution_count": 187,
     "metadata": {},
     "output_type": "execute_result"
    }
   ],
   "source": [
    "#grab the top 100k 'legit' websites\n",
    "import pandas as pd\n",
    "import tldextract\n",
    "\n",
    "alexa_df = pd.read_csv('data/alexa_100k.csv', names=['rank','uri'], header=None, encoding='utf-8')\n",
    "\n",
    "#pull out just the top level domain\n",
    "def domain_extract(uri):\n",
    "    ext = tldextract.extract(uri)\n",
    "    if (not ext.suffix):\n",
    "        return np.nan\n",
    "    else:\n",
    "        return ext.domain\n",
    "\n",
    "alexa_df['domain'] = [ domain_extract(uri) for uri in alexa_df['uri']]\n",
    "del alexa_df['rank']\n",
    "del alexa_df['uri']\n",
    "\n",
    "#drop null rows\n",
    "alexa_df.dropna()\n",
    "alexa_df.drop_duplicates()\n",
    "\n",
    "#add label\n",
    "alexa_df['label'] = 'valid'\n",
    "\n",
    "alexa_df.head()"
   ]
  },
  {
   "cell_type": "code",
   "execution_count": 188,
   "metadata": {},
   "outputs": [
    {
     "data": {
      "text/html": [
       "<div>\n",
       "<style scoped>\n",
       "    .dataframe tbody tr th:only-of-type {\n",
       "        vertical-align: middle;\n",
       "    }\n",
       "\n",
       "    .dataframe tbody tr th {\n",
       "        vertical-align: top;\n",
       "    }\n",
       "\n",
       "    .dataframe thead th {\n",
       "        text-align: right;\n",
       "    }\n",
       "</style>\n",
       "<table border=\"1\" class=\"dataframe\">\n",
       "  <thead>\n",
       "    <tr style=\"text-align: right;\">\n",
       "      <th></th>\n",
       "      <th>domain</th>\n",
       "      <th>label</th>\n",
       "    </tr>\n",
       "  </thead>\n",
       "  <tbody>\n",
       "    <tr>\n",
       "      <th>0</th>\n",
       "      <td>bookmarkzine</td>\n",
       "      <td>valid</td>\n",
       "    </tr>\n",
       "    <tr>\n",
       "      <th>1</th>\n",
       "      <td>toei</td>\n",
       "      <td>valid</td>\n",
       "    </tr>\n",
       "    <tr>\n",
       "      <th>2</th>\n",
       "      <td>veryhotsex</td>\n",
       "      <td>valid</td>\n",
       "    </tr>\n",
       "    <tr>\n",
       "      <th>3</th>\n",
       "      <td>miel</td>\n",
       "      <td>valid</td>\n",
       "    </tr>\n",
       "    <tr>\n",
       "      <th>4</th>\n",
       "      <td>clubedeautores</td>\n",
       "      <td>valid</td>\n",
       "    </tr>\n",
       "  </tbody>\n",
       "</table>\n",
       "</div>"
      ],
      "text/plain": [
       "           domain  label\n",
       "0    bookmarkzine  valid\n",
       "1            toei  valid\n",
       "2      veryhotsex  valid\n",
       "3            miel  valid\n",
       "4  clubedeautores  valid"
      ]
     },
     "execution_count": 188,
     "metadata": {},
     "output_type": "execute_result"
    }
   ],
   "source": [
    "#shuffle data\n",
    "alexa_df = alexa_df.sample(frac=1).reset_index(drop=True)\n",
    "\n",
    "alexa_df.head()"
   ]
  },
  {
   "cell_type": "code",
   "execution_count": 189,
   "metadata": {},
   "outputs": [],
   "source": [
    "from sklearn.model_selection import train_test_split\n",
    "import numpy as np\n",
    "\n",
    "#set aside 20% of data as test\n",
    "alexa_train, alexa_test = train_test_split(alexa_df, test_size=0.2, random_state=42)\n"
   ]
  },
  {
   "cell_type": "code",
   "execution_count": 190,
   "metadata": {},
   "outputs": [
    {
     "data": {
      "text/html": [
       "<div>\n",
       "<style scoped>\n",
       "    .dataframe tbody tr th:only-of-type {\n",
       "        vertical-align: middle;\n",
       "    }\n",
       "\n",
       "    .dataframe tbody tr th {\n",
       "        vertical-align: top;\n",
       "    }\n",
       "\n",
       "    .dataframe thead th {\n",
       "        text-align: right;\n",
       "    }\n",
       "</style>\n",
       "<table border=\"1\" class=\"dataframe\">\n",
       "  <thead>\n",
       "    <tr style=\"text-align: right;\">\n",
       "      <th></th>\n",
       "      <th>domain</th>\n",
       "      <th>label</th>\n",
       "    </tr>\n",
       "  </thead>\n",
       "  <tbody>\n",
       "    <tr>\n",
       "      <th>0</th>\n",
       "      <td>04055051be412eea5a61b7da8438be3d</td>\n",
       "      <td>dga</td>\n",
       "    </tr>\n",
       "    <tr>\n",
       "      <th>1</th>\n",
       "      <td>1cb8a5f36f</td>\n",
       "      <td>dga</td>\n",
       "    </tr>\n",
       "    <tr>\n",
       "      <th>2</th>\n",
       "      <td>30acd347397c34fc273e996b22951002</td>\n",
       "      <td>dga</td>\n",
       "    </tr>\n",
       "    <tr>\n",
       "      <th>3</th>\n",
       "      <td>336c986a284e2b3bc0f69f949cb437cb</td>\n",
       "      <td>dga</td>\n",
       "    </tr>\n",
       "    <tr>\n",
       "      <th>4</th>\n",
       "      <td>336c986a284e2b3bc0f69f949cb437cb</td>\n",
       "      <td>dga</td>\n",
       "    </tr>\n",
       "  </tbody>\n",
       "</table>\n",
       "</div>"
      ],
      "text/plain": [
       "                             domain label\n",
       "0  04055051be412eea5a61b7da8438be3d   dga\n",
       "1                        1cb8a5f36f   dga\n",
       "2  30acd347397c34fc273e996b22951002   dga\n",
       "3  336c986a284e2b3bc0f69f949cb437cb   dga\n",
       "4  336c986a284e2b3bc0f69f949cb437cb   dga"
      ]
     },
     "execution_count": 190,
     "metadata": {},
     "output_type": "execute_result"
    }
   ],
   "source": [
    "#take in sample of algorithmically generated domains\n",
    "dga_df = pd.read_csv('data/dga.txt', names=['raw'], header=None, encoding='utf-8')\n",
    "dga_df['domain'] = dga_df.applymap(lambda x: x.split('.')[0].strip().lower())\n",
    "del dga_df['raw']\n",
    "dga_df['label'] = 'dga'\n",
    "\n",
    "#set aside 20% of data as test\n",
    "dga_train, dga_test = train_test_split(dga_df, test_size=0.2, random_state=42)\n",
    "\n",
    "dga_df.head()"
   ]
  },
  {
   "cell_type": "code",
   "execution_count": 191,
   "metadata": {},
   "outputs": [
    {
     "data": {
      "text/html": [
       "<div>\n",
       "<style scoped>\n",
       "    .dataframe tbody tr th:only-of-type {\n",
       "        vertical-align: middle;\n",
       "    }\n",
       "\n",
       "    .dataframe tbody tr th {\n",
       "        vertical-align: top;\n",
       "    }\n",
       "\n",
       "    .dataframe thead th {\n",
       "        text-align: right;\n",
       "    }\n",
       "</style>\n",
       "<table border=\"1\" class=\"dataframe\">\n",
       "  <thead>\n",
       "    <tr style=\"text-align: right;\">\n",
       "      <th></th>\n",
       "      <th>domain</th>\n",
       "      <th>label</th>\n",
       "    </tr>\n",
       "  </thead>\n",
       "  <tbody>\n",
       "    <tr>\n",
       "      <th>0</th>\n",
       "      <td>bookmarkzine</td>\n",
       "      <td>valid</td>\n",
       "    </tr>\n",
       "    <tr>\n",
       "      <th>1</th>\n",
       "      <td>toei</td>\n",
       "      <td>valid</td>\n",
       "    </tr>\n",
       "    <tr>\n",
       "      <th>2</th>\n",
       "      <td>veryhotsex</td>\n",
       "      <td>valid</td>\n",
       "    </tr>\n",
       "    <tr>\n",
       "      <th>3</th>\n",
       "      <td>miel</td>\n",
       "      <td>valid</td>\n",
       "    </tr>\n",
       "    <tr>\n",
       "      <th>4</th>\n",
       "      <td>clubedeautores</td>\n",
       "      <td>valid</td>\n",
       "    </tr>\n",
       "  </tbody>\n",
       "</table>\n",
       "</div>"
      ],
      "text/plain": [
       "           domain  label\n",
       "0    bookmarkzine  valid\n",
       "1            toei  valid\n",
       "2      veryhotsex  valid\n",
       "3            miel  valid\n",
       "4  clubedeautores  valid"
      ]
     },
     "execution_count": 191,
     "metadata": {},
     "output_type": "execute_result"
    }
   ],
   "source": [
    "#combine the frames\n",
    "df = pd.concat([alexa_df, dga_df], ignore_index=True)\n",
    "df.head()"
   ]
  },
  {
   "cell_type": "code",
   "execution_count": 192,
   "metadata": {},
   "outputs": [
    {
     "data": {
      "text/html": [
       "<div>\n",
       "<style scoped>\n",
       "    .dataframe tbody tr th:only-of-type {\n",
       "        vertical-align: middle;\n",
       "    }\n",
       "\n",
       "    .dataframe tbody tr th {\n",
       "        vertical-align: top;\n",
       "    }\n",
       "\n",
       "    .dataframe thead th {\n",
       "        text-align: right;\n",
       "    }\n",
       "</style>\n",
       "<table border=\"1\" class=\"dataframe\">\n",
       "  <thead>\n",
       "    <tr style=\"text-align: right;\">\n",
       "      <th></th>\n",
       "      <th>domain</th>\n",
       "      <th>label</th>\n",
       "      <th>length</th>\n",
       "    </tr>\n",
       "  </thead>\n",
       "  <tbody>\n",
       "    <tr>\n",
       "      <th>0</th>\n",
       "      <td>b'bookmarkzine'</td>\n",
       "      <td>valid</td>\n",
       "      <td>12</td>\n",
       "    </tr>\n",
       "    <tr>\n",
       "      <th>1</th>\n",
       "      <td>b'toei'</td>\n",
       "      <td>valid</td>\n",
       "      <td>4</td>\n",
       "    </tr>\n",
       "    <tr>\n",
       "      <th>2</th>\n",
       "      <td>b'veryhotsex'</td>\n",
       "      <td>valid</td>\n",
       "      <td>10</td>\n",
       "    </tr>\n",
       "    <tr>\n",
       "      <th>3</th>\n",
       "      <td>b'miel'</td>\n",
       "      <td>valid</td>\n",
       "      <td>4</td>\n",
       "    </tr>\n",
       "    <tr>\n",
       "      <th>4</th>\n",
       "      <td>b'clubedeautores'</td>\n",
       "      <td>valid</td>\n",
       "      <td>14</td>\n",
       "    </tr>\n",
       "  </tbody>\n",
       "</table>\n",
       "</div>"
      ],
      "text/plain": [
       "              domain  label  length\n",
       "0    b'bookmarkzine'  valid      12\n",
       "1            b'toei'  valid       4\n",
       "2      b'veryhotsex'  valid      10\n",
       "3            b'miel'  valid       4\n",
       "4  b'clubedeautores'  valid      14"
      ]
     },
     "execution_count": 192,
     "metadata": {},
     "output_type": "execute_result"
    }
   ],
   "source": [
    "df['domain'] = df['domain'].astype('|S')\n",
    "df['length'] = [len(x) for x in df['domain']]\n",
    "\n",
    "df.head()"
   ]
  },
  {
   "cell_type": "code",
   "execution_count": 193,
   "metadata": {},
   "outputs": [],
   "source": [
    "#compute the entropy of each string based on char frequency\n",
    "import math\n",
    "from collections import Counter\n",
    " \n",
    "def entropy(s):\n",
    "    p, lns = Counter(s), float(len(s))\n",
    "    return -sum( count/lns * math.log(count/lns, 2) for count in p.values())"
   ]
  },
  {
   "cell_type": "code",
   "execution_count": 194,
   "metadata": {},
   "outputs": [],
   "source": [
    "#add an entropy field\n",
    "df['entropy'] = [entropy(x) for x in df['domain']]"
   ]
  },
  {
   "cell_type": "code",
   "execution_count": 195,
   "metadata": {},
   "outputs": [
    {
     "data": {
      "text/plain": [
       "<matplotlib.axes._subplots.AxesSubplot at 0x7fe0ea32f898>"
      ]
     },
     "execution_count": 195,
     "metadata": {},
     "output_type": "execute_result"
    },
    {
     "data": {
      "image/png": "[encoded data removed]",
      "text/plain": [
       "<Figure size 1008x360 with 1 Axes>"
      ]
     },
     "metadata": {},
     "output_type": "display_data"
    },
    {
     "data": {
      "image/png": "[encoded data removed]",
      "text/plain": [
       "<Figure size 1008x360 with 1 Axes>"
      ]
     },
     "metadata": {},
     "output_type": "display_data"
    }
   ],
   "source": [
    "#plot out the differences\n",
    "import matplotlib.pyplot as plt\n",
    "\n",
    "plt.rcParams['figure.figsize'] = (14.0, 5.0)\n",
    "plt.rcParams['axes.grid'] = True\n",
    "\n",
    "#look for differences between valid and invalid\n",
    "df.boxplot('length','label')\n",
    "df.boxplot('entropy','label')\n",
    "\n"
   ]
  },
  {
   "cell_type": "code",
   "execution_count": 196,
   "metadata": {},
   "outputs": [
    {
     "name": "stdout",
     "output_type": "stream",
     "text": [
      "363\n",
      "3\n"
     ]
    }
   ],
   "source": [
    "#we see high entropy is correlated to DGA\n",
    "high_entropy = df[df['entropy']> 4]\n",
    "high_entropy_dga = high_entropy[high_entropy['label']=='dga']\n",
    "high_entropy_valid = high_entropy[high_entropy['label']=='valid']\n",
    "\n",
    "print (len(high_entropy_dga))\n",
    "print (len(high_entropy_valid))"
   ]
  },
  {
   "cell_type": "code",
   "execution_count": 197,
   "metadata": {},
   "outputs": [
    {
     "data": {
      "text/html": [
       "<div>\n",
       "<style scoped>\n",
       "    .dataframe tbody tr th:only-of-type {\n",
       "        vertical-align: middle;\n",
       "    }\n",
       "\n",
       "    .dataframe tbody tr th {\n",
       "        vertical-align: top;\n",
       "    }\n",
       "\n",
       "    .dataframe thead th {\n",
       "        text-align: right;\n",
       "    }\n",
       "</style>\n",
       "<table border=\"1\" class=\"dataframe\">\n",
       "  <thead>\n",
       "    <tr style=\"text-align: right;\">\n",
       "      <th></th>\n",
       "      <th>domain</th>\n",
       "      <th>label</th>\n",
       "      <th>length</th>\n",
       "      <th>entropy</th>\n",
       "    </tr>\n",
       "  </thead>\n",
       "  <tbody>\n",
       "    <tr>\n",
       "      <th>100023</th>\n",
       "      <td>b'a17btkyb38gxe41pwd50nxmzjxiwjwdwfrp52'</td>\n",
       "      <td>dga</td>\n",
       "      <td>37</td>\n",
       "      <td>4.540402</td>\n",
       "    </tr>\n",
       "    <tr>\n",
       "      <th>100024</th>\n",
       "      <td>b'a17c49l68ntkqnuhvkrmyb28fubvn30e31g43dq'</td>\n",
       "      <td>dga</td>\n",
       "      <td>39</td>\n",
       "      <td>4.631305</td>\n",
       "    </tr>\n",
       "    <tr>\n",
       "      <th>100025</th>\n",
       "      <td>b'a17d60gtnxk47gskti15izhvlviyksh64nqkz'</td>\n",
       "      <td>dga</td>\n",
       "      <td>37</td>\n",
       "      <td>4.270132</td>\n",
       "    </tr>\n",
       "    <tr>\n",
       "      <th>100026</th>\n",
       "      <td>b'a17erpzfzh64c69csi35bqgvp52drita67jzmy'</td>\n",
       "      <td>dga</td>\n",
       "      <td>38</td>\n",
       "      <td>4.629249</td>\n",
       "    </tr>\n",
       "    <tr>\n",
       "      <th>100027</th>\n",
       "      <td>b'a17fro51oyk67b18ksfzoti55j36p32o11fvc29cr'</td>\n",
       "      <td>dga</td>\n",
       "      <td>41</td>\n",
       "      <td>4.305859</td>\n",
       "    </tr>\n",
       "  </tbody>\n",
       "</table>\n",
       "</div>"
      ],
      "text/plain": [
       "                                              domain label  length   entropy\n",
       "100023      b'a17btkyb38gxe41pwd50nxmzjxiwjwdwfrp52'   dga      37  4.540402\n",
       "100024    b'a17c49l68ntkqnuhvkrmyb28fubvn30e31g43dq'   dga      39  4.631305\n",
       "100025      b'a17d60gtnxk47gskti15izhvlviyksh64nqkz'   dga      37  4.270132\n",
       "100026     b'a17erpzfzh64c69csi35bqgvp52drita67jzmy'   dga      38  4.629249\n",
       "100027  b'a17fro51oyk67b18ksfzoti55j36p32o11fvc29cr'   dga      41  4.305859"
      ]
     },
     "execution_count": 197,
     "metadata": {},
     "output_type": "execute_result"
    }
   ],
   "source": [
    "high_entropy_dga.head()"
   ]
  },
  {
   "cell_type": "code",
   "execution_count": 198,
   "metadata": {},
   "outputs": [
    {
     "data": {
      "text/html": [
       "<div>\n",
       "<style scoped>\n",
       "    .dataframe tbody tr th:only-of-type {\n",
       "        vertical-align: middle;\n",
       "    }\n",
       "\n",
       "    .dataframe tbody tr th {\n",
       "        vertical-align: top;\n",
       "    }\n",
       "\n",
       "    .dataframe thead th {\n",
       "        text-align: right;\n",
       "    }\n",
       "</style>\n",
       "<table border=\"1\" class=\"dataframe\">\n",
       "  <thead>\n",
       "    <tr style=\"text-align: right;\">\n",
       "      <th></th>\n",
       "      <th>domain</th>\n",
       "      <th>label</th>\n",
       "      <th>length</th>\n",
       "      <th>entropy</th>\n",
       "    </tr>\n",
       "  </thead>\n",
       "  <tbody>\n",
       "    <tr>\n",
       "      <th>17051</th>\n",
       "      <td>b'theukwebdesigncompany'</td>\n",
       "      <td>valid</td>\n",
       "      <td>21</td>\n",
       "      <td>4.070656</td>\n",
       "    </tr>\n",
       "    <tr>\n",
       "      <th>51873</th>\n",
       "      <td>b'burzhunetdlyachaynikov'</td>\n",
       "      <td>valid</td>\n",
       "      <td>22</td>\n",
       "      <td>4.004886</td>\n",
       "    </tr>\n",
       "    <tr>\n",
       "      <th>64918</th>\n",
       "      <td>b'congresomundialjjrperu2009'</td>\n",
       "      <td>valid</td>\n",
       "      <td>26</td>\n",
       "      <td>4.056021</td>\n",
       "    </tr>\n",
       "  </tbody>\n",
       "</table>\n",
       "</div>"
      ],
      "text/plain": [
       "                              domain  label  length   entropy\n",
       "17051       b'theukwebdesigncompany'  valid      21  4.070656\n",
       "51873      b'burzhunetdlyachaynikov'  valid      22  4.004886\n",
       "64918  b'congresomundialjjrperu2009'  valid      26  4.056021"
      ]
     },
     "execution_count": 198,
     "metadata": {},
     "output_type": "execute_result"
    }
   ],
   "source": [
    "high_entropy_valid.head()"
   ]
  },
  {
   "cell_type": "code",
   "execution_count": 199,
   "metadata": {},
   "outputs": [],
   "source": [
    "#lets try a random forrest classifer with the features of length and entropy\n",
    "import sklearn.ensemble\n",
    "\n",
    "X = df.as_matrix(['length', 'entropy'])\n",
    "y = np.array(df['label'].tolist())\n",
    "\n",
    "clf = sklearn.ensemble.RandomForestClassifier(n_estimators=20)"
   ]
  },
  {
   "cell_type": "code",
   "execution_count": 200,
   "metadata": {},
   "outputs": [
    {
     "name": "stdout",
     "output_type": "stream",
     "text": [
      "[0.97901042 0.97784163 0.97935132 0.97667284 0.97550285]\n"
     ]
    },
    {
     "data": {
      "text/plain": [
       "DecisionTreeClassifier(class_weight=None, criterion='gini', max_depth=None,\n",
       "            max_features=None, max_leaf_nodes=None,\n",
       "            min_impurity_decrease=0.0, min_impurity_split=None,\n",
       "            min_samples_leaf=1, min_samples_split=2,\n",
       "            min_weight_fraction_leaf=0.0, presort=False, random_state=None,\n",
       "            splitter='best')"
      ]
     },
     "execution_count": 200,
     "metadata": {},
     "output_type": "execute_result"
    }
   ],
   "source": [
    "import sklearn.cross_validation\n",
    "\n",
    "#how did we do?\n",
    "scores = sklearn.cross_validation.cross_val_score(clf, X, y, cv=5, n_jobs=4)\n",
    "\n",
    "print (scores)\n",
    "clf.base_estimator"
   ]
  }
 ],
 "metadata": {
  "kernelspec": {
   "display_name": "Python 3",
   "language": "python",
   "name": "python3"
  },
  "language_info": {
   "codemirror_mode": {
    "name": "ipython",
    "version": 3
   },
   "file_extension": ".py",
   "mimetype": "text/x-python",
   "name": "python",
   "nbconvert_exporter": "python",
   "pygments_lexer": "ipython3",
   "version": "3.6.5"
  }
 },
 "nbformat": 4,
 "nbformat_minor": 2
}
